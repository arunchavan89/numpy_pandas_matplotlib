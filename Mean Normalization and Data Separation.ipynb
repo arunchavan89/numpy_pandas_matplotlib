{
 "cells": [
  {
   "cell_type": "markdown",
   "metadata": {},
   "source": [
    "# Mean Normalization\n",
    "\n",
    "In machine learning we use large amounts of data to train our models. Some machine learning algorithms may require that the data is *normalized* in order to work correctly. The idea of normalization, also known as *feature scaling*, is to ensure that all the data is on a similar scale, *i.e.* that all the data takes on a similar range of values. For example, we might have a dataset that has values between 0 and 5,000. By normalizing the data we can make the range of values be between 0 and 1.\n",
    "\n",
    "In this lab, you will be performing a different kind of feature scaling known as *mean normalization*. Mean normalization will scale the data, but instead of making the values be between 0 and 1, it will distribute the values evenly in some small interval around zero. For example, if we have a dataset that has values between 0 and 5,000, after mean normalization the range of values will be distributed in some small range around 0, for example between -3 to 3. Because the range of values are distributed evenly around zero, this guarantees that the average (mean) of all elements will be zero. Therefore, when you perform *mean normalization* your data will not only be scaled but it will also have an average of zero. \n",
    "\n",
    "# To Do:\n",
    "\n",
    "You will start by importing NumPy and creating a rank 2 ndarray of random integers between 0 and 5,000 (inclusive) with 1000 rows and 20 columns. This array will simulate a dataset with a wide range of values. Fill in the code below"
   ]
  },
  {
   "cell_type": "code",
   "execution_count": 5,
   "metadata": {},
   "outputs": [
    {
     "name": "stdout",
     "output_type": "stream",
     "text": [
      "[[4341 2727 1862 ..., 4314 3880 2025]\n",
      " [2175 4909 3576 ...,   84  570 3020]\n",
      " [4760 2223 4253 ..., 4827 2672 2795]\n",
      " ..., \n",
      " [ 621 3850 4412 ..., 4495 4526 4814]\n",
      " [2142 3700 2799 ..., 1816 4114 2236]\n",
      " [ 842 1842 1844 ..., 4214 4852 1514]]\n"
     ]
    }
   ],
   "source": [
    "# import NumPy into Python\n",
    "import numpy as np\n",
    "\n",
    "# Create a 1000 x 20 ndarray with random integers in the half-open interval [0, 5001).\n",
    "X = np.random.randint(0, 5001, (1000, 20))\n",
    "\n",
    "# print the shape of X\n",
    "print(X)"
   ]
  },
  {
   "cell_type": "markdown",
   "metadata": {},
   "source": [
    "Now that you created the array we will mean normalize it. We will perform mean normalization using the following equation:\n",
    "\n",
    "$\\mbox{Norm_Col}_i = \\frac{\\mbox{Col}_i - \\mu_i}{\\sigma_i}$\n",
    "\n",
    "where $\\mbox{Col}_i$ is the $i$th column of $X$, $\\mu_i$ is average of the values in the $i$th column of $X$, and $\\sigma_i$ is the standard deviation of the values in the $i$th column of $X$. In other words, mean normalization is performed by subtracting from each column of $X$ the average of its values, and then by dividing by the standard deviation of its values. In the space below, you will first calculate the average and standard deviation of each column of $X$. "
   ]
  },
  {
   "cell_type": "code",
   "execution_count": 6,
   "metadata": {},
   "outputs": [],
   "source": [
    "# Average of the values in each column of X\n",
    "ave_cols = np.mean(X, axis = 0)\n",
    "\n",
    "# Standard Deviation of the values in each column of X\n",
    "std_cols = np.std(X, axis = 0) "
   ]
  },
  {
   "cell_type": "markdown",
   "metadata": {},
   "source": [
    "If you have done the above calculations correctly, then `ave_cols` and `std_cols`, should both be vectors with shape `(20,)` since $X$ has 20 columns. You can verify this by filling the code below:"
   ]
  },
  {
   "cell_type": "code",
   "execution_count": 9,
   "metadata": {},
   "outputs": [
    {
     "name": "stdout",
     "output_type": "stream",
     "text": [
      "20\n",
      "20\n"
     ]
    }
   ],
   "source": [
    "# Print the shape of ave_cols\n",
    "print(ave_cols.shape[0])\n",
    "\n",
    "# Print the shape of std_cols\n",
    "print(std_cols.shape[0])"
   ]
  },
  {
   "cell_type": "markdown",
   "metadata": {},
   "source": [
    "You can now take advantage of Broadcasting to calculate the mean normalized version of $X$ in just one line of code using the equation above. Fill in the code below"
   ]
  },
  {
   "cell_type": "code",
   "execution_count": 10,
   "metadata": {},
   "outputs": [],
   "source": [
    "# Mean normalize X\n",
    "X_norm = (X - ave_cols)/std_cols"
   ]
  },
  {
   "cell_type": "markdown",
   "metadata": {},
   "source": [
    "If you have performed the mean normalization correctly, then the average of all the elements in $X_{\\tiny{\\mbox{norm}}}$ should be close to zero, and they should be evenly distributed in some small interval around zero. You can verify this by filing the code below:"
   ]
  },
  {
   "cell_type": "code",
   "execution_count": 13,
   "metadata": {},
   "outputs": [
    {
     "name": "stdout",
     "output_type": "stream",
     "text": [
      "-1.70530256582e-17\n",
      "-1.73326028677\n",
      "1.72351394973\n"
     ]
    }
   ],
   "source": [
    "# Print the average of all the values of X_norm\n",
    "print(np.mean(X_norm))\n",
    "\n",
    "# Print the average of the minimum value in each column of X_norm\n",
    "print(np.mean(np.min(X_norm, axis = 0)))\n",
    "\n",
    "# Print the average of the maximum value in each column of X_norm\n",
    "print(np.mean(np.max(X_norm, axis = 0)))"
   ]
  },
  {
   "cell_type": "markdown",
   "metadata": {},
   "source": [
    "You should note that since $X$ was created using random integers, the above values will vary. \n",
    "\n",
    "# Data Separation\n",
    "\n",
    "After the data has been mean normalized, it is customary in machine learnig to split our dataset into three sets:\n",
    "\n",
    "1. A Training Set\n",
    "2. A Cross Validation Set\n",
    "3. A Test Set\n",
    "\n",
    "The dataset is usually divided such that the Training Set contains 60% of the data, the Cross Validation Set contains 20% of the data, and the Test Set contains 20% of the data. \n",
    "\n",
    "In this part of the lab you will separate `X_norm` into a Training Set, Cross Validation Set, and a Test Set. Each data set will contain rows of `X_norm` chosen at random, making sure that we don't pick the same row twice. This will guarantee that all the rows of `X_norm` are chosen and randomly distributed among the three new sets.\n",
    "\n",
    "You will start by creating a rank 1 ndarray that contains a random permutation of the row indices of `X_norm`. You can do this by using the `np.random.permutation()` function. The `np.random.permutation(N)` function creates a random permutation of integers from 0 to `N - 1`. Let's see an example:"
   ]
  },
  {
   "cell_type": "code",
   "execution_count": null,
   "metadata": {},
   "outputs": [],
   "source": [
    "# We create a random permutation of integers 0 to 4\n",
    "np.random.permutation(5)"
   ]
  },
  {
   "cell_type": "markdown",
   "metadata": {},
   "source": [
    "# To Do\n",
    "\n",
    "In the space below create a rank 1 ndarray that contains a random permutation of the row indices of `X_norm`. You can do this in one line of code by extracting the number of rows of `X_norm` using the `shape` attribute and then passing it to the  `np.random.permutation()` function. Remember the `shape` attribute returns a tuple with two numbers in the form `(rows,columns)`."
   ]
  },
  {
   "cell_type": "code",
   "execution_count": 15,
   "metadata": {},
   "outputs": [
    {
     "name": "stdout",
     "output_type": "stream",
     "text": [
      "1000\n",
      "[608 727 745 315 342 130 706 531 610 203 629 869 579 647 648 916   5 606\n",
      " 529  33 815 835 834 717 691 276 989 477 985 599 266 492 356 507 347 926\n",
      " 822 527 897 742 634 496 557 271 280 397 836 955 851 946  50 382  27 560\n",
      " 987 499 302 222 992  89 462 581 445 844 237 678 667  40 314 928  49 418\n",
      " 493 355 882 875 251 909 958 228 697  31 401 244 423 102  19 375 497 145\n",
      " 797 459 598 338 788 384 883 661 544  88 425 539 906  68  41  94 162 721\n",
      " 426 129 376 219 407 283 855 304 553 902 810  46 112 528 120 626 408 831\n",
      " 369 226 789 218 993 724 936 611 773 700 419 731 165 791  67 873 127 792\n",
      " 588 887 569 737  85 540 206 194 473 523 699 205  36  81 824 122 294 756\n",
      " 624 128  42 168 854 489 584 505 698 766 166 220 998 225 334 639 947 272\n",
      " 741 232 273 758 202 546 695 944 140 751 808 480 357 503 501 543  84 236\n",
      "  82 487 825 249 124 176 635 830 430 169 715 803 256 456  65 986 734 674\n",
      " 113 195  11  13 475 471 138 410 466 538 961  57 881 979 186 725 580 705\n",
      "  54   4 434 270 809 613  72 479 344 975 537 846  79 561 685 394 771 793\n",
      " 411 134 512 224 412 858 630 296 594 669 317 109  30 313 929 451 833 659\n",
      "  66 441 490 826 139  62 161  75 572 790 141 563 652 783 590 896 951 644\n",
      " 837  22 662 151 247 878 361 378 945 516  44 182 461 465 233 345 216  38\n",
      "  21 888 609 949 973 704 892 712 870 991 643 348 308 636 530 904 800 364\n",
      " 692 494 360 769 863 260 444 981 565 711 147 913 939 172  35 149  98  70\n",
      " 175 938 121 665 354 414 254 198 733 174 453 914 764 362 658 341 227 632\n",
      " 377 513 840 597 403 714 900 701 136 472 331 180 738  58 568 504 670 481\n",
      " 649 155 111 502 243 884 519 857 328  56 333  95 778 781 264 178 722 690\n",
      " 842 933 937 910 416 387 386  52 332 760 263 755 365 605  43 358 868 908\n",
      " 856 277 759 879 235 339 448 686 903 177 943 468 106 192 843 917 595 400\n",
      " 446 509  92  60 952  69 593 932 718 409 919 872 252 732 323 533 117 708\n",
      " 848 522 633 923 454 860 617 301 330 650 253 293 675 562 184 443  87 850\n",
      " 839 948 994 694 268  20 381 427 821 786 447  47 131 957 585 654 774 167\n",
      " 820  14 770 269 911 431 988 211 185 309 780 554 515 428 303  16 542 980\n",
      " 399 336 115  34 204 587 521 954  86 305 100 750 552 785 380 782 156 762\n",
      " 367 615 736 663 688 753 931 596 534 511 776 889 934 464  45 429 816  83\n",
      " 798 646 440 374 474 591 959 637 907 940 405 148 144 366 874 289 173 476\n",
      " 894 970 312 258 297 545 819 676 671 259 292 592   9 707 765 898 866 901\n",
      " 246 852 352 207 108 801 640  15 829 478 641 723 666 895 463 153 346 281\n",
      " 261 488 498 867 743 241 326 110 133 963 267 491 217 804 784 187 990 672\n",
      " 891 146  76 335 604 483 322 813  32 214 631 363 337 442 645 288  96 142\n",
      " 123   2 105 925 103 600 960 567 555 847 905 248 571 171 575 582 373  64\n",
      "  29 190 968  53 814 525 859 728 349 777 983 392 189 550 199 811  78 368\n",
      " 558 739 223   0 612 188 257 101 295 927 390  97   7 977 541 229 684 126\n",
      " 680 209 832 152 845 402 536 689 976 160 794  59 508 197 620 324 370 574\n",
      " 255  18  90 677 775  17 806 673 683 514 935 116 616 664 183 999 316 300\n",
      " 642 279 458 433 964 125 250 449 942 343 398 196 242 972 726 861 978 841\n",
      "  39  71 208 849   8 320 740 930 559 623 577 621 853 586 436 922 240 119\n",
      " 864 886 282 682 638 920 238  73  10   1 311 420 997 526 485 607 278 589\n",
      " 215 548 656 231 424 921 865 285 150 467 517 450 158 551 787 234 890 157\n",
      " 353 716 601 655 107 827 971 181  77 495 754 535  93 306 802 482 210 274\n",
      " 995 556  99 730 779 880  26   3 965 763 871 799 817 747 391 396 818 969\n",
      "  24 967 393  91 437 602 713 618 761 876 807 547  37 812 749  12 570 506\n",
      " 439 982 950 213 389 549 457 265 143 746 469 603 893 862 962 576 524 583\n",
      " 104 696 625 351 406 838 191 230 421 299 702 163 693 179  48 768 221 651\n",
      "  28 245 772 956 687 460 899 627 657 132 619 200 159 395 118 681 193 201\n",
      " 371 388 275   6 566 877 379 383 310 653 729 413 720 966 668 372 703 796\n",
      "  51 327 319 823 757  61 660 470 709 974 912 154  55 614 135 885 578 984\n",
      " 744  80 170 415 291 941 452 298 350 359 287 628 767 438 262 518 329 422\n",
      " 307 752 679 805 520 795 318 828 532 435 915 500 622 286 719 417 290 918\n",
      " 748 924 573 321 564 212 710  25 996 239 385 510 404 114  63 484 340 284\n",
      " 325 137 486  23  74 432 735 455 953 164]\n"
     ]
    }
   ],
   "source": [
    "# Create a rank 1 ndarray that contains a random permutation of the row indices of `X_norm`\n",
    "row_indices = np.random.permutation(X_norm.shape[0])\n",
    "print (X_norm.shape[0])\n",
    "print (row_indices)"
   ]
  },
  {
   "cell_type": "markdown",
   "metadata": {},
   "source": [
    "Now you can create the three datasets using the `row_indices` ndarray to select the rows that will go into each dataset. Rememeber that the Training Set contains 60% of the data, the Cross Validation Set contains 20% of the data, and the Test Set contains 20% of the data. Each set requires just one line of code to create. Fill in the code below"
   ]
  },
  {
   "cell_type": "code",
   "execution_count": 16,
   "metadata": {},
   "outputs": [],
   "source": [
    "# Make any necessary calculations.\n",
    "# You can save your calculations into variables to use later.\n",
    "\n",
    "\n",
    "# Create a Training Set\n",
    "X_train = X_norm[row_indices[:600]]\n",
    "\n",
    "# Create a Cross Validation Set\n",
    "X_crossVal = X_norm[row_indices[600:800]]\n",
    "\n",
    "# Create a Test Set\n",
    "X_test = X_norm[row_indices[800:]]"
   ]
  },
  {
   "cell_type": "markdown",
   "metadata": {},
   "source": [
    "If you performed the above calculations correctly, then `X_tain` should have 600 rows and 20 columns, `X_crossVal` should have 200 rows and 20 columns, and `X_test` should have 200 rows and 20 columns. You can verify this by filling the code below:"
   ]
  },
  {
   "cell_type": "code",
   "execution_count": 17,
   "metadata": {},
   "outputs": [
    {
     "name": "stdout",
     "output_type": "stream",
     "text": [
      "(600, 20)\n",
      "(200, 20)\n",
      "(200, 20)\n"
     ]
    }
   ],
   "source": [
    "# Print the shape of X_train\n",
    "print(X_train.shape)\n",
    "\n",
    "# Print the shape of X_crossVal\n",
    "print(X_crossVal.shape)\n",
    "\n",
    "# Print the shape of X_test\n",
    "print(X_test.shape)"
   ]
  },
  {
   "cell_type": "code",
   "execution_count": null,
   "metadata": {},
   "outputs": [],
   "source": []
  }
 ],
 "metadata": {
  "kernelspec": {
   "display_name": "Python 3",
   "language": "python",
   "name": "python3"
  },
  "language_info": {
   "codemirror_mode": {
    "name": "ipython",
    "version": 3
   },
   "file_extension": ".py",
   "mimetype": "text/x-python",
   "name": "python",
   "nbconvert_exporter": "python",
   "pygments_lexer": "ipython3",
   "version": "3.6.3"
  }
 },
 "nbformat": 4,
 "nbformat_minor": 2
}
